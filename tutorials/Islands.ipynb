{
 "cells": [
  {
   "cell_type": "code",
   "execution_count": 1,
   "metadata": {
    "collapsed": false
   },
   "outputs": [
    {
     "name": "stdout",
     "output_type": "stream",
     "text": [
      "/Users/kylemagida/git/blobs\n"
     ]
    }
   ],
   "source": [
    "cd .."
   ]
  },
  {
   "cell_type": "code",
   "execution_count": 2,
   "metadata": {
    "collapsed": false
   },
   "outputs": [
    {
     "name": "stdout",
     "output_type": "stream",
     "text": [
      "Your version of PySAL is 185 days old.\n",
      "There have likely been 1 new release(s).\n",
      "Disable this check? [Y/n]n\n"
     ]
    }
   ],
   "source": [
    "import pysal as ps\n",
    "import sys\n",
    "import os\n",
    "SHP_LNK = '/Users/kylemagida/git/blobs/tracts/CensusTractsTIGER2010.shp'\n",
    "GEO_ID = \"TRACTCE10\"\n",
    "root = os.getcwd()\n",
    "WEIGHT_FILE = root + '/tracts/custom_weight_file.gal' # Use this file in creating blobs"
   ]
  },
  {
   "cell_type": "code",
   "execution_count": 10,
   "metadata": {
    "collapsed": false
   },
   "outputs": [
    {
     "name": "stdout",
     "output_type": "stream",
     "text": [
      "Initial Islands: 2\n",
      "Sizes: [799, 2]\n"
     ]
    }
   ],
   "source": [
    "# Run this to create a weight file for a custom set of shapefiles for use in blobs\n",
    "rook_w = ps.rook_from_shapefile(SHP_LNK, idVariable=GEO_ID)\n",
    "neighbors = rook_w.neighbors\n",
    "island_dict = find_islands(neighbors)\n",
    "print \"Initial Islands:\", len(island_dict)\n",
    "print \"Sizes:\", [len(x) for x in island_dict.values()]\n",
    "connect_islands(island_dict,rook_w)\n",
    "'''\n",
    "Islands are connected by running KNN on islands until they connect with the mainland, the \n",
    "mainland weights are unchanged.\n",
    "'''\n",
    "island_dict = find_islands(neighbors)\n",
    "gal = ps.open(WEIGHT_FILE,'w')\n",
    "gal.write(rook_w)\n",
    "gal.close()"
   ]
  },
  {
   "cell_type": "code",
   "execution_count": 4,
   "metadata": {
    "collapsed": false
   },
   "outputs": [],
   "source": [
    "def get_connected_tracts(tract,neighbors,tract_dict):\n",
    "    '''\n",
    "    Recurses through all connected shapes to identify grouped areas\n",
    "    '''\n",
    "    dependent_tracts =  get_connected_tracts_helper(tract,[],neighbors,tract_dict)\n",
    "    return list(dependent_tracts)\n",
    "\n",
    "def get_connected_tracts_helper(tract,checked_tracts,neighbors,tract_dict):\n",
    "    \n",
    "    if len(checked_tracts) > 0 and tract in checked_tracts:\n",
    "        return []\n",
    "    \n",
    "    if tract in tract_dict:\n",
    "        return tract_dict[tract]\n",
    "    \n",
    "    dependent_tracts = set(neighbors[tract])\n",
    "    checked_tracts.append(tract)\n",
    "\n",
    "    for nearby_tract in neighbors[tract]:      \n",
    "        second_level_tracts = get_connected_tracts_helper(nearby_tract,checked_tracts,neighbors,tract_dict)\n",
    "        dependent_tracts |= set(second_level_tracts)\n",
    "    tract_dict[tract] = list(dependent_tracts)\n",
    "    \n",
    "    return dependent_tracts"
   ]
  },
  {
   "cell_type": "code",
   "execution_count": 5,
   "metadata": {
    "collapsed": false
   },
   "outputs": [],
   "source": [
    "def find_islands(neighbors):\n",
    "    '''\n",
    "    Uses weights to identify all contiguous groups of tracts and returns the whole list\n",
    "    '''\n",
    "    island_dict = {}\n",
    "    island_count = 0\n",
    "    tract_dict = {}\n",
    "    \n",
    "    for tract in neighbors.keys():\n",
    "\n",
    "        if tract_in_found_islands(island_dict,tract):\n",
    "            continue\n",
    "        else:\n",
    "            dependent_tracts = get_connected_tracts(tract,neighbors,tract_dict)\n",
    "            island_dict[island_count] = dependent_tracts\n",
    "            island_count += 1\n",
    "            \n",
    "    return island_dict\n",
    "        \n",
    "\n",
    "def tract_in_found_islands(islands_dict,tract):\n",
    "    '''\n",
    "    Determines is a tract is already in an existing island\n",
    "    '''\n",
    "    for island_list in islands_dict.values():\n",
    "        if tract in island_list:\n",
    "            return True\n",
    "    return False  "
   ]
  },
  {
   "cell_type": "code",
   "execution_count": 6,
   "metadata": {
    "collapsed": false
   },
   "outputs": [],
   "source": [
    "def connect_islands(island_dict,spatial_weights):\n",
    "    '''\n",
    "    Connects islands by having each tract in an island get weights with the KNN tracts when K mandates that at least one\n",
    "    of the neighbors is not on the island\n",
    "    '''\n",
    "    mainland_size = 0\n",
    "    mainland_num = None\n",
    "    \n",
    "    for island_num in island_dict:\n",
    "        if len(island_dict[island_num]) > mainland_size:\n",
    "            mainland_num = island_num\n",
    "            mainland_size = len(island_dict[island_num])\n",
    "    \n",
    "    \n",
    "    \n",
    "    for island_num in island_dict:\n",
    "\n",
    "        if island_num == mainland_num:\n",
    "            continue\n",
    "        else:\n",
    "            joined = False\n",
    "            island = island_dict[island_num]\n",
    "            island_size = len(island)\n",
    "            for knn in range(2,island_size+2):\n",
    "                knn_weights = ps.knnW_from_shapefile(SHP_LNK,k=knn,idVariable=GEO_ID)\n",
    "            #Add weights to new tracts that aren't on the island and to their pairs on other islands or the mainland\n",
    "                for tract in island:\n",
    "                    tracts_to_add = list(set(knn_weights.neighbors[tract]) - set(island))\n",
    "                    if len(tracts_to_add) > 0:\n",
    "                        joined = True\n",
    "                        for new_tract in tracts_to_add:\n",
    "                            # Add tract from off-island to tract neighbors (not vice-versa)\n",
    "                            spatial_weights.neighbors[tract].append(new_tract)\n",
    "                            spatial_weights.weights[tract].append(1)\n",
    "                if joined:\n",
    "                    break\n"
   ]
  }
 ],
 "metadata": {
  "kernelspec": {
   "display_name": "Python 2",
   "language": "python",
   "name": "python2"
  },
  "language_info": {
   "codemirror_mode": {
    "name": "ipython",
    "version": 2
   },
   "file_extension": ".py",
   "mimetype": "text/x-python",
   "name": "python",
   "nbconvert_exporter": "python",
   "pygments_lexer": "ipython2",
   "version": "2.7.6"
  }
 },
 "nbformat": 4,
 "nbformat_minor": 0
}
