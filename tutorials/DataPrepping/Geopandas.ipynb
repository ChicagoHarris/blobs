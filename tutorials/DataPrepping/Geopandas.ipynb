{
 "metadata": {
  "name": "",
  "signature": "sha256:b2f13879a2a9153770964ae09b8336efad0149539ad7a19f1d205d49c018a56f"
 },
 "nbformat": 3,
 "nbformat_minor": 0,
 "worksheets": [
  {
   "cells": [
    {
     "cell_type": "code",
     "collapsed": false,
     "input": [
      "from shapely import geometry\n",
      "import geopandas as gpd\n",
      "import pandas as pd\n",
      "import numpy as np\n",
      "import time\n",
      "\n",
      "SHAPE_FILENAME = '/Users/kylemagida/git/blobs/blocks/CensusBlockTIGER2010.dbf' #Shapefile database\n",
      "GEOMETRY = 'geometry' # Location of geometry in the database\n",
      "GEO_ID = 'GEOID10' # ID in the shapefile to be aggregated on\n",
      "POINT_PROJECTION = 4326 #Projection system of points\n",
      "\n",
      "POINT_FILENAME = '/Users/kylemagida/Downloads/business_licenses_2015-09-06-1.csv'#Add new data here\n",
      "#Assumes new data is in lat/long format\n",
      "LAT_COL = 'latitude' #header or column number\n",
      "LONG_COL = 'longitude' #header or column number\n",
      "NEW_ID = 'business_licenses_row_id' #ID row to group on in new file\n",
      "\n",
      "OUTPUT_FILE = '/Users/kylemagida/Downloads/business_licenses_2015-09-06-1_filled.csv'"
     ],
     "language": "python",
     "metadata": {},
     "outputs": [],
     "prompt_number": 177
    },
    {
     "cell_type": "code",
     "collapsed": false,
     "input": [
      "def points_in_shapes(point_df,shape_df,verbose=False):\n",
      "    '''\n",
      "    Updates point_df with data on the given geo id, verbose counts points by 100s and prints time\n",
      "    '''\n",
      "    start = time.time()\n",
      "    for index, row in point_df.iterrows():\n",
      "        if verbose and index % 100 == 0:\n",
      "            print index\n",
      "        # Skip rows without lat/long data\n",
      "        if np.isnan(row[LONG_COL]) or np.isnan(row[LAT_COL]):\n",
      "            continue\n",
      "        point = geometry.Point(row[LONG_COL],row[LAT_COL])\n",
      "        match = shape_df[shape_df[GEOMETRY].contains(point)==True]\n",
      "        x = match\n",
      "        # Skip rows with no matches\n",
      "        if len(match) == 0:\n",
      "            continue\n",
      "        if len(match) > 1:\n",
      "            print \"Multiple matches\"\n",
      "        point_df.loc[index,GEO_ID] = match.iloc[0][GEO_ID] #Select first item in dataframe if there are multiples, this shouldn't even happend\n",
      "    if verbose:\n",
      "        print \"time: %d, tested: %d, found %d\" %(time.time() - start,len(point_df),point_df[GEO_ID].count())\n",
      "    "
     ],
     "language": "python",
     "metadata": {},
     "outputs": [],
     "prompt_number": 180
    },
    {
     "cell_type": "code",
     "collapsed": false,
     "input": [
      "#Load shapefiles into geopandas and convert to the correct projection\n",
      "shape_df = gpd.read_file(SHAPE_FILENAME)\n",
      "shape_df[GEOMETRY] = shape_df[GEOMETRY].to_crs(epsg=POINT_PROJECTION)"
     ],
     "language": "python",
     "metadata": {},
     "outputs": [],
     "prompt_number": 175
    },
    {
     "cell_type": "code",
     "collapsed": false,
     "input": [
      "# Read in data and add column with GeoID\n",
      "point_df = pd.read_csv(POINT_FILENAME)\n",
      "point_df[GEO_ID] = np.nan #Initialize GEO_ID to NaN\n",
      "points_in_shapes(point_df,shape_df,verbose=True)"
     ],
     "language": "python",
     "metadata": {},
     "outputs": [
      {
       "output_type": "stream",
       "stream": "stdout",
       "text": [
        "0\n",
        "100"
       ]
      },
      {
       "output_type": "stream",
       "stream": "stdout",
       "text": [
        "\n",
        "200"
       ]
      },
      {
       "output_type": "stream",
       "stream": "stdout",
       "text": [
        "\n",
        "300"
       ]
      },
      {
       "output_type": "stream",
       "stream": "stdout",
       "text": [
        "\n",
        "400"
       ]
      },
      {
       "output_type": "stream",
       "stream": "stdout",
       "text": [
        "\n",
        "500"
       ]
      },
      {
       "output_type": "stream",
       "stream": "stdout",
       "text": [
        "\n",
        "600"
       ]
      },
      {
       "output_type": "stream",
       "stream": "stdout",
       "text": [
        "\n",
        "700"
       ]
      },
      {
       "output_type": "stream",
       "stream": "stdout",
       "text": [
        "\n",
        "800"
       ]
      },
      {
       "output_type": "stream",
       "stream": "stdout",
       "text": [
        "\n",
        "900"
       ]
      },
      {
       "output_type": "stream",
       "stream": "stdout",
       "text": [
        "\n",
        "time: 246, tested: 1000, found 786"
       ]
      },
      {
       "output_type": "stream",
       "stream": "stdout",
       "text": [
        "\n"
       ]
      }
     ],
     "prompt_number": 181
    },
    {
     "cell_type": "code",
     "collapsed": false,
     "input": [
      "# Group data by geographic ID\n",
      "grouped = point_df.groupby(by=GEO_ID).count()[NEW_ID]\n",
      "pd.DataFrame(grouped).rename(columns={NEW_ID:'count'}).to_csv(OUTPUT_FILE)"
     ],
     "language": "python",
     "metadata": {},
     "outputs": [],
     "prompt_number": 182
    }
   ],
   "metadata": {}
  }
 ]
}