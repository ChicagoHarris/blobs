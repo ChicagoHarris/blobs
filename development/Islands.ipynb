{
 "metadata": {
  "name": "",
  "signature": "sha256:c98519b70d77d2e9a4f4448cb3d152860b623eeb998ab60401262357fc34e161"
 },
 "nbformat": 3,
 "nbformat_minor": 0,
 "worksheets": [
  {
   "cells": [
    {
     "cell_type": "code",
     "collapsed": false,
     "input": [
      "import pysal as ps\n",
      "import sys\n",
      "SHP_LNK = '/Users/kylemagida/git/blobs/tracts/CensusTractsTIGER2010.shp'\n",
      "GEO_ID = \"GEOID10\""
     ],
     "language": "python",
     "metadata": {},
     "outputs": [],
     "prompt_number": 80
    },
    {
     "cell_type": "code",
     "collapsed": false,
     "input": [
      "SHP_LNK = '/Users/kylemagida/Downloads/tl_2013_36_tract/tl_2013_36_tract.shp'\n",
      "GEO_ID = 'GEOID'"
     ],
     "language": "python",
     "metadata": {},
     "outputs": [],
     "prompt_number": 77
    },
    {
     "cell_type": "code",
     "collapsed": false,
     "input": [
      "def get_connected_tracts(tract,weights,tract_dict):\n",
      "    '''\n",
      "    Recurses through all connected shapes to identify grouped areas\n",
      "    '''\n",
      "    dependent_tracts =  get_connected_tracts_helper(tract,[],weights,tract_dict)\n",
      "    return list(dependent_tracts)\n",
      "\n",
      "def get_connected_tracts_helper(tract,checked_tracts,weights,tract_dict):\n",
      "    \n",
      "    if len(checked_tracts) > 0 and tract in checked_tracts:\n",
      "        return []\n",
      "    \n",
      "    if tract in tract_dict:\n",
      "        return tract_dict[tract]\n",
      "    \n",
      "    dependent_tracts = set(weights[tract])\n",
      "    checked_tracts.append(tract)\n",
      "\n",
      "    for nearby_tract in weights[tract]:      \n",
      "        second_level_tracts = get_connected_tracts_helper(nearby_tract,checked_tracts,weights,tract_dict)\n",
      "        dependent_tracts |= set(second_level_tracts)\n",
      "    tract_dict[tract] = list(dependent_tracts)\n",
      "    \n",
      "    return dependent_tracts"
     ],
     "language": "python",
     "metadata": {},
     "outputs": [],
     "prompt_number": 74
    },
    {
     "cell_type": "code",
     "collapsed": false,
     "input": [
      "# Get weight and reduce islands using KNN until this is only one contiguous block of islands\n",
      "# Works best when there is a large compact mainland and small islands\n",
      "rook_w = ps.rook_from_shapefile(SHP_LNK, idVariable=GEO_ID)\n",
      "weights = rook_w.neighbors\n",
      "sys.setrecursionlimit(len(weights))\n",
      "island_dict = find_islands(weights)\n",
      "print \"Initial Islands:\", len(island_dict)\n",
      "print \"Sizes:\", [len(x) for x in island_dict.values()]\n",
      "\n",
      "#while len(island_dict) > 1:\n",
      "    #connect_islands(island_dict,weights)\n",
      "    #island_dict = find_islands(weights)"
     ],
     "language": "python",
     "metadata": {},
     "outputs": [
      {
       "output_type": "stream",
       "stream": "stdout",
       "text": [
        "Initial Islands: 2\n",
        "Sizes: [799, 2]\n"
       ]
      }
     ],
     "prompt_number": 83
    },
    {
     "cell_type": "code",
     "collapsed": false,
     "input": [
      "def find_islands(weights):\n",
      "    '''\n",
      "    Uses weights to identify all contiguous groups of tracts and returns the whole list\n",
      "    '''\n",
      "    island_dict = {}\n",
      "    island_count = 0\n",
      "    tract_dict = {}\n",
      "    \n",
      "    for tract in weights.keys():\n",
      "\n",
      "        if tract_in_found_islands(island_dict,tract):\n",
      "            continue\n",
      "        else:\n",
      "            dependent_tracts = get_connected_tracts(tract,weights,tract_dict)\n",
      "            island_dict[island_count] = dependent_tracts\n",
      "            island_count += 1\n",
      "            \n",
      "    return island_dict\n",
      "        \n",
      "\n",
      "def tract_in_found_islands(islands_dict,tract):\n",
      "    '''\n",
      "    Determines is a tract is already in an existing island\n",
      "    '''\n",
      "    for island_list in islands_dict.values():\n",
      "        if tract in island_list:\n",
      "            return True\n",
      "    return False  "
     ],
     "language": "python",
     "metadata": {},
     "outputs": [],
     "prompt_number": 60
    },
    {
     "cell_type": "code",
     "collapsed": false,
     "input": [
      "def connect_islands(island_dict,weights):\n",
      "    '''\n",
      "    Connects islands by having each tract in an island get weights with the KNN tracts when K mandates that at least one\n",
      "    of the neighbors is not on the island\n",
      "    '''\n",
      "    mainland_size = 0\n",
      "    mainland_num = None\n",
      "    \n",
      "    for island_num in island_dict:\n",
      "        if len(island_dict[island_num]) > mainland_size:\n",
      "            mainland_num = island_num\n",
      "            mainland_size = len(island_dict[island_num])\n",
      "    \n",
      "\n",
      "    for island_num in island_dict:\n",
      "\n",
      "        if island_num == mainland_num:\n",
      "            continue\n",
      "        else:\n",
      "            island = island_dict[island_num]\n",
      "            island_size = len(island)\n",
      "            knn_weights = ps.knnW_from_shapefile(SHP_LNK,k=island_size,idVariable=GEO_ID)\n",
      "            #Add weights to new tracts that aren't on the island and to their pairs on other islands or the mainland\n",
      "            for tract in island:\n",
      "                tracts_to_add = list(set(knn_weights.neighbors[tract]) - set(island))\n",
      "                for new_tract in tracts_to_add:\n",
      "                    weights[new_tract].append(tract)\n",
      "                    weights[tract].append(new_tract)\n"
     ],
     "language": "python",
     "metadata": {},
     "outputs": [],
     "prompt_number": 4
    },
    {
     "cell_type": "code",
     "collapsed": false,
     "input": [
      "# Get weight and reduce islands using KNN until this is only one contiguous block of islands\n",
      "# Works best when there is a large compact mainland and small islands\n",
      "knn_w = ps.knnW_from_shapefile(SHP_LNK,k=3,idVariable=GEO_ID)\n",
      "weights = knn_w.neighbors\n",
      "island_dict = find_islands(weights)\n",
      "print \"Initial Islands:\", len(island_dict)\n",
      "print \"Sizes:\", [len(x) for x in island_dict.values()]\n",
      "\n",
      "while len(island_dict) > 1:\n",
      "    connect_islands(island_dict,weights)\n",
      "    island_dict = find_islands(weights)"
     ],
     "language": "python",
     "metadata": {},
     "outputs": [
      {
       "output_type": "stream",
       "stream": "stdout",
       "text": [
        "Initial Islands: 22\n",
        "Sizes: [430, 430, 746, 432, 430, 743, 430, 733, 743, 432, 743, 733, 433, 430, 432, 430, 731, 434, 747, 731, 734, 731]\n"
       ]
      }
     ],
     "prompt_number": 11
    }
   ],
   "metadata": {}
  }
 ]
}