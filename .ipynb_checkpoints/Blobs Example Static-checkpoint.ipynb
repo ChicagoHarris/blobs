{
 "cells": [
  {
   "cell_type": "markdown",
   "metadata": {},
   "source": [
    "###Blobs. A project of Urban CCD in Chicago.\n",
    "#Tutorial 1.0 - Using Static Data"
   ]
  },
  {
   "cell_type": "markdown",
   "metadata": {},
   "source": [
    "## Data Prep and Set-Up\n",
    "\n",
    "You should have already cloned the *blobs* repo from GitHub, and saved it accordingly. The first steps import the required libraries, assign and initilize the required data and spatial files. Your data will be connected to spatial files, connecting 311 call data to census tracts in this case."
   ]
  },
  {
   "cell_type": "code",
   "execution_count": 5,
   "metadata": {
    "collapsed": false
   },
   "outputs": [
    {
     "name": "stdout",
     "output_type": "stream",
     "text": [
      "/Users/Makosak/code/blobs\n"
     ]
    }
   ],
   "source": [
    "cd ."
   ]
  },
  {
   "cell_type": "code",
   "execution_count": 6,
   "metadata": {
    "collapsed": false,
    "scrolled": true
   },
   "outputs": [],
   "source": [
    "# Import required libraries\n",
    "import blobs\n",
    "import numpy as np\n",
    "import pandas as pd\n",
    "import pysal as ps"
   ]
  },
  {
   "cell_type": "code",
   "execution_count": 7,
   "metadata": {
    "collapsed": true
   },
   "outputs": [],
   "source": [
    "# Open census tract shapefile and database.\n",
    "shp_link = 'tracts/CensusTractsTIGER2010.shp'\n",
    "dbf = ps.open('tracts/CensusTractsTIGER2010.dbf')"
   ]
  },
  {
   "cell_type": "code",
   "execution_count": 8,
   "metadata": {
    "collapsed": true
   },
   "outputs": [],
   "source": [
    "# Shapefile and data preparation.\n",
    "cols = np.array([dbf.by_col(col) for col in dbf.header]).T\n",
    "df = pd.DataFrame(cols)\n",
    "df.columns = dbf.header\n",
    "df.columns = df.columns.map(lambda x: x.lower())\n",
    "df.commarea = df.commarea.astype('int')\n",
    "df['order'] = df.index"
   ]
  },
  {
   "cell_type": "code",
   "execution_count": 9,
   "metadata": {
    "collapsed": true
   },
   "outputs": [],
   "source": [
    "# Assign spatial weight for census tracts.\n",
    "w=ps.open('tracts/CensusTractsTIGER2010.gal').read()"
   ]
  },
  {
   "cell_type": "code",
   "execution_count": 10,
   "metadata": {
    "collapsed": true
   },
   "outputs": [],
   "source": [
    "# Initialize sample 311 call data from CSV file.\n",
    "init_calls = pd.read_csv('master311.csv', dtype=object)\n",
    "for c in init_calls.columns[1:]:\n",
    "    init_calls[c] = init_calls[c].astype('float')"
   ]
  },
  {
   "cell_type": "code",
   "execution_count": 11,
   "metadata": {
    "collapsed": true
   },
   "outputs": [],
   "source": [
    "# Format data and merge on shapefile IDs\n",
    "ordered_tracts = pd.DataFrame(df.loc[:,['tractce10', 'commarea', 'order']])\n",
    "calls = pd.merge(init_calls, ordered_tracts, how='right', left_on='tractID', \n",
    "    right_on='tractce10', sort=False).fillna(0).sort(['order'])\n",
    "calls = calls.drop(['order', 'commarea'],1)\n",
    "\n",
    "class bd:\n",
    "  data = calls\n",
    "  w = w\n",
    "  shp_link = shp_link\n",
    "  id = 'tractce10'\n",
    "  level = 'tract'"
   ]
  },
  {
   "cell_type": "code",
   "execution_count": 12,
   "metadata": {
    "collapsed": true
   },
   "outputs": [],
   "source": [
    "# Assign the attribute data.\n",
    "d = bd()"
   ]
  },
  {
   "cell_type": "markdown",
   "metadata": {},
   "source": [
    "## Create Blobs\n",
    "\n",
    "You can assign what attribute you would like to \"blob\" accordingly. In this example, blobs are created from census tracts and must have a minimum of 10,000 persons per blob."
   ]
  },
  {
   "cell_type": "code",
   "execution_count": 13,
   "metadata": {
    "collapsed": false,
    "scrolled": true
   },
   "outputs": [
    {
     "name": "stdout",
     "output_type": "stream",
     "text": [
      "['vehicles_per1000', 'alley_lights_per1000', 'garbage_per1000', 'graffiti_per1000', 'potholes_per1000', 'rodents_per1000', 'sanitation_per1000', 'street_lights_one_per1000', 'street_lights_all_per1000', 'tree_debris_per1000', 'tree_trims_per1000', 'buildings_per1000', 'all_calls_per1000']\n",
      "\n",
      "### CREATING BLOBS FROM 13 VARIABLES ###\n",
      "    PARAMETERS:\n",
      "     # Minimum pop in each blob: 10000\n",
      "     # Iterations: 1\n",
      "     # Method: equal votes\n",
      "     # Plot blobs: True\n",
      "     # Save blobs data: False\n",
      "\n",
      "\n",
      "# ITERATION 1                 \n",
      "  Score: 3089.85\n",
      "  Created 189 blobs (4 tracts per blob)\n",
      "  Best solution so far: 3089.85\n",
      "  Time taken: 5.4 seconds (0 seconds remaining)\n",
      "\n",
      "# BEST SOLUTION:                      \n",
      "  Score: 3089.85\n",
      "  189 blobs (4 tracts per blob)\n",
      "             \n",
      "\n"
     ]
    }
   ],
   "source": [
    "# Create blobs minimum population of 10,000 in each blob. This calls a Pop-Up Window with the Map.\n",
    "b = blobs.Blobs(d, 'pop', 10000, iterations=1)"
   ]
  },
  {
   "cell_type": "code",
   "execution_count": null,
   "metadata": {
    "collapsed": false
   },
   "outputs": [],
   "source": [
    "# Cluster the blobs along similarities in the data\n",
    "cl = blobs.Cluster_blobs(b, blobs_per_cluster=10)"
   ]
  },
  {
   "cell_type": "code",
   "execution_count": null,
   "metadata": {
    "collapsed": true
   },
   "outputs": [],
   "source": [
    "# Create blobs with a minimum of 30 tracts in each blob, and cluster\n",
    "b = blobs.Blobs(d, 'areas', 30)\n",
    "cl = blobs.Cluster_blobs(b, blobs_per_cluster=10)"
   ]
  },
  {
   "cell_type": "code",
   "execution_count": null,
   "metadata": {
    "collapsed": true
   },
   "outputs": [],
   "source": [
    "# Have around 3 blobs per cluster\n",
    "cl.set_n_clusters(3)"
   ]
  },
  {
   "cell_type": "code",
   "execution_count": null,
   "metadata": {
    "collapsed": true
   },
   "outputs": [],
   "source": [
    "# See blob assignments\n",
    "b.assignments"
   ]
  },
  {
   "cell_type": "code",
   "execution_count": null,
   "metadata": {
    "collapsed": true
   },
   "outputs": [],
   "source": [
    "# Plot blobs along one of the variables\n",
    "b.plot_blobs('all_calls_per1000_mean')"
   ]
  }
 ],
 "metadata": {
  "kernelspec": {
   "display_name": "Python 2",
   "language": "python",
   "name": "python2"
  },
  "language_info": {
   "codemirror_mode": {
    "name": "ipython",
    "version": 2
   },
   "file_extension": ".py",
   "mimetype": "text/x-python",
   "name": "python",
   "nbconvert_exporter": "python",
   "pygments_lexer": "ipython2",
   "version": "2.7.10"
  }
 },
 "nbformat": 4,
 "nbformat_minor": 0
}
